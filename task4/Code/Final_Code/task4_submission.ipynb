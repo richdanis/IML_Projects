{
  "nbformat": 4,
  "nbformat_minor": 0,
  "metadata": {
    "colab": {
      "name": "task4_submission.ipynb",
      "provenance": [],
      "collapsed_sections": []
    },
    "kernelspec": {
      "name": "python3",
      "display_name": "Python 3"
    },
    "language_info": {
      "name": "python"
    }
  },
  "cells": [
    {
      "cell_type": "code",
      "execution_count": null,
      "metadata": {
        "id": "vrHJmYxjL2ad"
      },
      "outputs": [],
      "source": [
        "import numpy as np\n",
        "import pandas as pd\n",
        "from torch.utils.data import DataLoader, Dataset\n",
        "import torch.nn as nn\n",
        "import torch\n",
        "import time\n",
        "import random"
      ]
    },
    {
      "cell_type": "code",
      "source": [
        "# fix seeds\n",
        "torch.manual_seed(13)\n",
        "random.seed(13)\n",
        "np.random.seed(13)"
      ],
      "metadata": {
        "id": "FZlReuA2L6tB"
      },
      "execution_count": null,
      "outputs": []
    },
    {
      "cell_type": "code",
      "source": [
        "use_cuda = torch.cuda.is_available()\n",
        "device = torch.device(\"cuda:0\" if use_cuda else \"cpu\")\n",
        "torch.backends.cudnn.benchmark = True"
      ],
      "metadata": {
        "id": "I05R6Y_rL7_G"
      },
      "execution_count": null,
      "outputs": []
    },
    {
      "cell_type": "code",
      "source": [
        "# mount drive to access data\n",
        "from google.colab import drive\n",
        "drive.mount('/content/drive')\n",
        "\n",
        "!cp drive/MyDrive/task4_lib.py .\n",
        "\n",
        "from task4_lib import *"
      ],
      "metadata": {
        "colab": {
          "base_uri": "https://localhost:8080/"
        },
        "id": "XpWwbaDCL9Sn",
        "outputId": "d7776430-7c13-49b0-8454-0e519583bdbe"
      },
      "execution_count": null,
      "outputs": [
        {
          "output_type": "stream",
          "name": "stdout",
          "text": [
            "Mounted at /content/drive\n"
          ]
        }
      ]
    },
    {
      "cell_type": "code",
      "source": [
        "# model definition for the regression of HOMO-LUMO gap\n",
        "class GapRegressor(nn.Module):\n",
        "\n",
        "    def __init__(self):\n",
        "        super().__init__()\n",
        "\n",
        "        self.encoder = None\n",
        "\n",
        "        self.regressor = nn.Sequential(\n",
        "            nn.Linear(20, 1)\n",
        "        )\n",
        "\n",
        "    def forward(self, x):\n",
        "\n",
        "        x = self.encoder(x)\n",
        "        x = self.regressor(x)\n",
        "        \n",
        "        return x"
      ],
      "metadata": {
        "id": "Gr7LIMPXX2_7"
      },
      "execution_count": null,
      "outputs": []
    },
    {
      "cell_type": "code",
      "source": [
        "from zipfile import ZipFile\n",
        "with ZipFile('drive/MyDrive/Data.zip','r') as zipObj:\n",
        "  zipObj.extractall('.')"
      ],
      "metadata": {
        "id": "Ry4P9Ze6L-yo"
      },
      "execution_count": null,
      "outputs": []
    },
    {
      "cell_type": "code",
      "source": [
        "# load model and freeze the weights\n",
        "reg = torch.load(\"drive/MyDrive/molecular_epoch_5000.pt\",map_location=torch.device('cpu')).to(device)\n",
        "\n",
        "for param in reg.parameters():\n",
        "    param.requires_grad = False\n",
        "\n",
        "reg.eval()"
      ],
      "metadata": {
        "colab": {
          "base_uri": "https://localhost:8080/"
        },
        "id": "D7fNy_Rr2oSr",
        "outputId": "1dc7f59f-c5a9-476e-ae91-455dda91c8ca"
      },
      "execution_count": null,
      "outputs": [
        {
          "output_type": "execute_result",
          "data": {
            "text/plain": [
              "GapRegressor(\n",
              "  (regressor): Sequential(\n",
              "    (0): Linear(in_features=20, out_features=1, bias=True)\n",
              "  )\n",
              "  (encoder): Sequential(\n",
              "    (0): Linear(in_features=1000, out_features=900, bias=True)\n",
              "    (1): LeakyReLU(negative_slope=0.01)\n",
              "    (2): Linear(in_features=900, out_features=500, bias=True)\n",
              "    (3): LeakyReLU(negative_slope=0.01)\n",
              "    (4): Linear(in_features=500, out_features=20, bias=True)\n",
              "  )\n",
              ")"
            ]
          },
          "metadata": {},
          "execution_count": 7
        }
      ]
    },
    {
      "cell_type": "code",
      "source": [
        "# get dataloader for the test dataset\n",
        "test_features = pd.read_csv(\"Data/test_features.csv\")\n",
        "\n",
        "test_features = test_features.drop(columns=['Id', 'smiles'])\n",
        "\n",
        "test = test_features.to_numpy()\n",
        "\n",
        "test_dataset = TrainDataset(test)\n",
        "\n",
        "test_loader = DataLoader(test_dataset, batch_size=64, shuffle=False, num_workers=0, pin_memory=True)"
      ],
      "metadata": {
        "id": "HcH5-GXrNhI1"
      },
      "execution_count": null,
      "outputs": []
    },
    {
      "cell_type": "code",
      "source": [
        "# calculate the predictions\n",
        "output = torch.empty((0,), dtype=torch.bool).to(device)\n",
        "\n",
        "for batch in test_loader:\n",
        "    batch = batch.to(device)\n",
        "    res = reg(batch)\n",
        "    output = torch.cat((output,res))\n",
        "\n",
        "output = np.reshape(output,(output.shape[0],))\n",
        "\n",
        "id = np.arange(50100,60100,dtype=int)"
      ],
      "metadata": {
        "id": "6ZLScvbGG_n5"
      },
      "execution_count": null,
      "outputs": []
    },
    {
      "cell_type": "code",
      "source": [
        "# convert to dataframe and store in csv\n",
        "df = pd.DataFrame({'Id': id,'y': output})\n",
        "\n",
        "df = df.set_index('Id')\n",
        "\n",
        "df.to_csv(\"submission.csv\", float_format='%f', header=True)"
      ],
      "metadata": {
        "id": "AqzCJQ86O4zC"
      },
      "execution_count": null,
      "outputs": []
    },
    {
      "cell_type": "code",
      "source": [
        "# copy submission to drive\n",
        "!cp submission.csv drive/MyDrive/final_submission.csv"
      ],
      "metadata": {
        "id": "YurfV1yPQeyG"
      },
      "execution_count": null,
      "outputs": []
    },
    {
      "cell_type": "code",
      "source": [
        ""
      ],
      "metadata": {
        "id": "m6Uo8uOpYh5q"
      },
      "execution_count": null,
      "outputs": []
    }
  ]
}