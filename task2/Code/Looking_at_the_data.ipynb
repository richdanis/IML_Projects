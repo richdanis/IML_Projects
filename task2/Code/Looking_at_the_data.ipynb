{
 "cells": [
  {
   "cell_type": "code",
   "execution_count": 1,
   "id": "b147800f",
   "metadata": {},
   "outputs": [],
   "source": [
    "import pandas as pd\n",
    "import numpy as np\n",
    "import sklearn as sk"
   ]
  },
  {
   "cell_type": "code",
   "execution_count": 2,
   "id": "cb25bd0d",
   "metadata": {},
   "outputs": [],
   "source": [
    "train_str = 'train_features.csv'\n",
    "labels_str = 'train_labels.csv'\n",
    "df_train_unsorted = pd.read_csv(train_str)\n",
    "df_labels = pd.read_csv(labels_str)"
   ]
  },
  {
   "cell_type": "code",
   "execution_count": 3,
   "id": "8159d7b5",
   "metadata": {},
   "outputs": [],
   "source": [
    "TEST1 = ['LABEL_BaseExcess', 'LABEL_Fibrinogen', 'LABEL_AST', 'LABEL_Alkalinephos', 'LABEL_Bilirubin_total', 'LABEL_Lactate',\n",
    "         'LABEL_TroponinI', 'LABEL_SaO2', 'LABEL_Bilirubin_direct', 'LABEL_EtCO2']\n",
    "TEST2 = ['LABEL_Sepsis']\n",
    "TEST3 = ['LABEL_RRate', 'LABEL_ABPm', 'LABEL_SpO2', 'LABEL_Heartrate']\n",
    "\n",
    "df_subtask1 = df_labels[TEST1]\n",
    "df_subtask2 = df_labels[TEST2]\n",
    "df_subtask3 = df_labels[TEST3]"
   ]
  },
  {
   "cell_type": "code",
   "execution_count": 10,
   "id": "2f9c4d29",
   "metadata": {},
   "outputs": [],
   "source": [
    "pd.set_option('display.max_rows', 24)\n",
    "pd.set_option('display.columns', 37)"
   ]
  },
  {
   "cell_type": "code",
   "execution_count": 5,
   "id": "5962115e",
   "metadata": {},
   "outputs": [],
   "source": [
    "#finding pid of the argmax time and print all of the rows\n",
    "time_arg_max = df_train_unsorted['Time'].argmax()\n",
    "time_arg_max_pid = df_train_unsorted.iloc[time_arg_max].pid\n",
    "df_time = df_train_unsorted[df_train_unsorted.pid == time_arg_max_pid]"
   ]
  },
  {
   "cell_type": "code",
   "execution_count": 6,
   "id": "b3fcc8d4",
   "metadata": {},
   "outputs": [],
   "source": [
    "df_train_sort = df_train_unsorted.sort_values(['pid','Time'], ascending=[True, True]).reset_index()\n",
    "col = df_train_sort.columns.get_loc('Time')\n",
    "num_of_row = df_train_sort.shape[0]\n",
    "for i in range(num_of_row):\n",
    "    df_train_sort.iat[i,col] = i%12 + 1\n",
    "\n",
    "df_train_sort = df_train_sort.drop(columns='index')"
   ]
  },
  {
   "cell_type": "code",
   "execution_count": null,
   "id": "6e6c96b1",
   "metadata": {},
   "outputs": [],
   "source": [
    "# df_train_sort is sorted by 'pid'&'Time'-labels and has increasing index\n",
    "# df_train_sort"
   ]
  },
  {
   "cell_type": "code",
   "execution_count": 17,
   "id": "634bddd2",
   "metadata": {},
   "outputs": [],
   "source": [
    "df_first = df_train_sort.head(12).copy()\n",
    "#df_first"
   ]
  },
  {
   "cell_type": "code",
   "execution_count": 21,
   "id": "1a5b8dec",
   "metadata": {},
   "outputs": [],
   "source": [
    "# just the first two patitients\n",
    "# df_part = df_train_sort.head(12*2).copy()\n",
    "# df_part"
   ]
  },
  {
   "cell_type": "code",
   "execution_count": null,
   "id": "db0679d1",
   "metadata": {},
   "outputs": [],
   "source": []
  },
  {
   "cell_type": "code",
   "execution_count": 27,
   "id": "86c093c4",
   "metadata": {},
   "outputs": [
    {
     "name": "stdout",
     "output_type": "stream",
     "text": [
      "100\n",
      "200\n",
      "300\n",
      "400\n",
      "500\n",
      "700\n",
      "800\n",
      "900\n",
      "1000\n",
      "1300\n",
      "1400\n",
      "1500\n",
      "1600\n",
      "1900\n",
      "2000\n",
      "2200\n",
      "2400\n",
      "2500\n",
      "2600\n",
      "2700\n",
      "2900\n",
      "3000\n",
      "3100\n",
      "3200\n",
      "3300\n",
      "3500\n",
      "3700\n",
      "3900\n",
      "4100\n",
      "4200\n",
      "4400\n",
      "4500\n",
      "4600\n",
      "4700\n",
      "5000\n",
      "5200\n",
      "5300\n",
      "5500\n",
      "5700\n",
      "6100\n",
      "6500\n",
      "6700\n",
      "6800\n",
      "6900\n",
      "7000\n",
      "7100\n",
      "7300\n",
      "7400\n",
      "7500\n",
      "7600\n",
      "7700\n",
      "7900\n",
      "8000\n",
      "8100\n",
      "8300\n",
      "8500\n",
      "8800\n",
      "9100\n",
      "9200\n",
      "9300\n",
      "9500\n",
      "9600\n",
      "9900\n",
      "10000\n",
      "10200\n",
      "10300\n",
      "10400\n",
      "10600\n",
      "10700\n",
      "10800\n",
      "10900\n",
      "11000\n",
      "11300\n",
      "11700\n",
      "11800\n",
      "11900\n",
      "12000\n",
      "12100\n",
      "12200\n",
      "12500\n",
      "12600\n",
      "12700\n",
      "12900\n",
      "13100\n",
      "13200\n",
      "13400\n",
      "13600\n",
      "14000\n",
      "14200\n",
      "14700\n",
      "14900\n",
      "15100\n",
      "15200\n",
      "15400\n",
      "15600\n",
      "15800\n",
      "15900\n",
      "16000\n",
      "16100\n",
      "16300\n",
      "16400\n",
      "16800\n",
      "16900\n",
      "17100\n",
      "17200\n",
      "17400\n",
      "17500\n",
      "17600\n",
      "17700\n",
      "17800\n",
      "18000\n",
      "18200\n",
      "18600\n",
      "18700\n",
      "18800\n"
     ]
    },
    {
     "ename": "IndexError",
     "evalue": "index 18995 is out of bounds for axis 0 with size 18995",
     "output_type": "error",
     "traceback": [
      "\u001b[1;31m---------------------------------------------------------------------------\u001b[0m",
      "\u001b[1;31mIndexError\u001b[0m                                Traceback (most recent call last)",
      "\u001b[1;32m<ipython-input-27-89ca2deaf72b>\u001b[0m in \u001b[0;36m<module>\u001b[1;34m\u001b[0m\n\u001b[0;32m      6\u001b[0m     \u001b[1;32mif\u001b[0m \u001b[0mi\u001b[0m\u001b[1;33m%\u001b[0m\u001b[1;36m100\u001b[0m \u001b[1;33m==\u001b[0m \u001b[1;36m0\u001b[0m\u001b[1;33m:\u001b[0m\u001b[1;33m\u001b[0m\u001b[1;33m\u001b[0m\u001b[0m\n\u001b[0;32m      7\u001b[0m         \u001b[0mprint\u001b[0m\u001b[1;33m(\u001b[0m\u001b[0mi\u001b[0m\u001b[1;33m)\u001b[0m\u001b[1;33m\u001b[0m\u001b[1;33m\u001b[0m\u001b[0m\n\u001b[1;32m----> 8\u001b[1;33m     \u001b[0mmask\u001b[0m \u001b[1;33m=\u001b[0m \u001b[0mdf_interpol\u001b[0m\u001b[1;33m.\u001b[0m\u001b[0mloc\u001b[0m\u001b[1;33m[\u001b[0m\u001b[1;33m:\u001b[0m\u001b[1;33m,\u001b[0m\u001b[1;34m'pid'\u001b[0m\u001b[1;33m]\u001b[0m \u001b[1;33m==\u001b[0m \u001b[0mdf_interpol\u001b[0m\u001b[1;33m.\u001b[0m\u001b[0mpid\u001b[0m\u001b[1;33m.\u001b[0m\u001b[0munique\u001b[0m\u001b[1;33m(\u001b[0m\u001b[1;33m)\u001b[0m\u001b[1;33m[\u001b[0m\u001b[0mi\u001b[0m\u001b[1;33m]\u001b[0m\u001b[1;33m\u001b[0m\u001b[1;33m\u001b[0m\u001b[0m\n\u001b[0m\u001b[0;32m      9\u001b[0m     \u001b[0mdf_interpol\u001b[0m\u001b[1;33m[\u001b[0m\u001b[0mmask\u001b[0m\u001b[1;33m]\u001b[0m \u001b[1;33m=\u001b[0m \u001b[0mdf_interpol\u001b[0m\u001b[1;33m[\u001b[0m\u001b[0mmask\u001b[0m\u001b[1;33m]\u001b[0m\u001b[1;33m.\u001b[0m\u001b[0minterpolate\u001b[0m\u001b[1;33m(\u001b[0m\u001b[1;33m)\u001b[0m\u001b[1;33m.\u001b[0m\u001b[0mfillna\u001b[0m\u001b[1;33m(\u001b[0m\u001b[0mmethod\u001b[0m\u001b[1;33m=\u001b[0m\u001b[1;34m'bfill'\u001b[0m\u001b[1;33m)\u001b[0m\u001b[1;33m\u001b[0m\u001b[1;33m\u001b[0m\u001b[0m\n\u001b[0;32m     10\u001b[0m \u001b[1;33m\u001b[0m\u001b[0m\n",
      "\u001b[1;31mIndexError\u001b[0m: index 18995 is out of bounds for axis 0 with size 18995"
     ]
    }
   ],
   "source": [
    "# interpolated values for all partients if at least one value per colom\n",
    "\n",
    "df_interpol = df_train_sort\n",
    "\n",
    "for i in df_interpol.pid.unique():\n",
    "    if i%100 == 0:\n",
    "        print(i)\n",
    "    mask = df_interpol.loc[:,'pid'] == df_interpol.pid.unique()[i]\n",
    "    df_interpol[mask] = df_interpol[mask].interpolate().fillna(method='bfill')\n",
    "    "
   ]
  },
  {
   "cell_type": "code",
   "execution_count": null,
   "id": "e3ed2a99",
   "metadata": {},
   "outputs": [],
   "source": [
    "df_interpol"
   ]
  },
  {
   "cell_type": "code",
   "execution_count": null,
   "id": "cffd3ad6",
   "metadata": {},
   "outputs": [],
   "source": [
    "df_try_2 = df_try[df_try.loc[:,'pid'] == 2].copy()\n",
    "df_try_2"
   ]
  },
  {
   "cell_type": "code",
   "execution_count": null,
   "id": "c5f39797",
   "metadata": {},
   "outputs": [],
   "source": [
    "df = df_part.copy()\n",
    "df.reset_index(drop=True)\n",
    "df"
   ]
  },
  {
   "cell_type": "code",
   "execution_count": null,
   "id": "f37c2faa",
   "metadata": {},
   "outputs": [],
   "source": [
    "#train_features = train_features.drop(columns='Time')\n",
    "#train_features = train_features.drop(columns='HCO3')\n",
    "#train_features = train_features.drop(columns='ABPm')\n",
    "#train_features = train_features.fillna(train_features.mean())\n",
    "#df_train_sort_nonNaN\n",
    "\n",
    "\n",
    "train_features = df_train_sort_nonNaN.to_numpy()\n",
    "pids = np.unique(train_features[:,0])\n",
    "#print(len(pids))\n",
    "# have to somehow exclude age?\n",
    "\n",
    "train_features = train_features[:,1:]\n",
    "train_features = train_features.reshape((len(pids),12*train_features.shape[-1]))\n",
    "#print(train_features.shape)"
   ]
  },
  {
   "cell_type": "code",
   "execution_count": null,
   "id": "b43bb295",
   "metadata": {},
   "outputs": [],
   "source": [
    "from sklearn.discriminant_analysis import LinearDiscriminantAnalysis\n",
    "df_train_nopid_time = df_train_sort_nonNaN.drop(columns=['pid','Time'])\n",
    "#print(df_train_nopid_time)\n",
    "X = df_train_sort_nonNaN.to_numpy(dtype=float)\n",
    "#print(X.shape)\n",
    "y = df_subtask1['LABEL_BaseExcess'].to_numpy(dtype=float)\n",
    "clf = LinearDiscriminantAnalysis()\n",
    "#print(y.shape)"
   ]
  },
  {
   "cell_type": "code",
   "execution_count": null,
   "id": "3b405e73",
   "metadata": {},
   "outputs": [],
   "source": [
    "#c = clf.fit(X, y)"
   ]
  },
  {
   "cell_type": "code",
   "execution_count": null,
   "id": "44b0706b",
   "metadata": {},
   "outputs": [],
   "source": [
    "# suppose df is a pandas dataframe containing the result\n",
    "df.to_csv('interpolated_data.csv', index=False, float_format='%.4f')"
   ]
  },
  {
   "cell_type": "code",
   "execution_count": null,
   "id": "ebcfa0ba",
   "metadata": {},
   "outputs": [],
   "source": []
  },
  {
   "cell_type": "code",
   "execution_count": null,
   "id": "2707224f",
   "metadata": {},
   "outputs": [],
   "source": []
  },
  {
   "cell_type": "code",
   "execution_count": null,
   "id": "10d746e9",
   "metadata": {},
   "outputs": [],
   "source": []
  },
  {
   "cell_type": "code",
   "execution_count": null,
   "id": "051f7bb6",
   "metadata": {},
   "outputs": [],
   "source": []
  },
  {
   "cell_type": "code",
   "execution_count": null,
   "id": "d5e89d06",
   "metadata": {},
   "outputs": [],
   "source": []
  }
 ],
 "metadata": {
  "kernelspec": {
   "display_name": "Python 3",
   "language": "python",
   "name": "python3"
  },
  "language_info": {
   "codemirror_mode": {
    "name": "ipython",
    "version": 3
   },
   "file_extension": ".py",
   "mimetype": "text/x-python",
   "name": "python",
   "nbconvert_exporter": "python",
   "pygments_lexer": "ipython3",
   "version": "3.8.8"
  }
 },
 "nbformat": 4,
 "nbformat_minor": 5
}
