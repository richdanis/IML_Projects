{
 "cells": [
  {
   "cell_type": "code",
   "execution_count": 1,
   "id": "b147800f",
   "metadata": {},
   "outputs": [],
   "source": [
    "import pandas as pd\n",
    "import numpy as np\n",
    "import sklearn as sk"
   ]
  },
  {
   "cell_type": "code",
   "execution_count": 2,
   "id": "cb25bd0d",
   "metadata": {},
   "outputs": [],
   "source": [
    "train_str = 'train_features.csv'\n",
    "labels_str = 'train_labels.csv'\n",
    "df_train_unsorted = pd.read_csv(train_str)\n",
    "df_labels = pd.read_csv(labels_str)"
   ]
  },
  {
   "cell_type": "code",
   "execution_count": 6,
   "id": "8159d7b5",
   "metadata": {},
   "outputs": [],
   "source": [
    "TEST1 = ['LABEL_BaseExcess', 'LABEL_Fibrinogen', 'LABEL_AST', 'LABEL_Alkalinephos', 'LABEL_Bilirubin_total', 'LABEL_Lactate',\n",
    "         'LABEL_TroponinI', 'LABEL_SaO2', 'LABEL_Bilirubin_direct', 'LABEL_EtCO2']\n",
    "TEST2 = ['LABEL_Sepsis']\n",
    "TEST3 = ['LABEL_RRate', 'LABEL_ABPm', 'LABEL_SpO2', 'LABEL_Heartrate']\n",
    "\n",
    "df_subtask1 = df_labels[TEST1]\n",
    "df_subtask2 = df_labels[TEST2]\n",
    "df_subtask3 = df_labels[TEST3]"
   ]
  },
  {
   "cell_type": "code",
   "execution_count": 3,
   "id": "2f9c4d29",
   "metadata": {},
   "outputs": [],
   "source": [
    "pd.set_option('display.max_rows', 15)"
   ]
  },
  {
   "cell_type": "code",
   "execution_count": 4,
   "id": "aa1add99",
   "metadata": {},
   "outputs": [],
   "source": [
    "#print(df_train_unsorted.columns)\n",
    "#print(df_labels.columns)"
   ]
  },
  {
   "cell_type": "code",
   "execution_count": 5,
   "id": "f9664d24",
   "metadata": {},
   "outputs": [],
   "source": [
    "#df_train_unsorted.describe()"
   ]
  },
  {
   "cell_type": "code",
   "execution_count": 7,
   "id": "658ce1a5",
   "metadata": {},
   "outputs": [],
   "source": [
    "#df_train_unsorted.info()"
   ]
  },
  {
   "cell_type": "code",
   "execution_count": 18,
   "id": "5962115e",
   "metadata": {},
   "outputs": [],
   "source": [
    "#finding pid of the argmax time and print all of the rows\n",
    "time_arg_max = df_train_unsorted['Time'].argmax()\n",
    "time_arg_max_pid = df_train_unsorted.iloc[time_arg_max].pid\n",
    "df_time = df_train_unsorted[df_train_unsorted.pid == time_arg_max_pid]"
   ]
  },
  {
   "cell_type": "code",
   "execution_count": 9,
   "id": "b3fcc8d4",
   "metadata": {},
   "outputs": [],
   "source": [
    "df_train_sort = df_train_unsorted.sort_values(['pid','Time'], ascending=[True, True])\n",
    "df_train_sort_nonNaN = df_train_sort.fillna(df_train_sort.mean())"
   ]
  },
  {
   "cell_type": "code",
   "execution_count": 11,
   "id": "3147984f",
   "metadata": {},
   "outputs": [],
   "source": [
    "col = df_train_sort_nonNaN.columns.get_loc('Time')\n",
    "num_of_row = df_train_sort_nonNaN.shape[0]\n",
    "for i in range(num_of_row):\n",
    "    df_train_sort_nonNaN.iat[i,col] = i%12 + 1"
   ]
  },
  {
   "cell_type": "code",
   "execution_count": 12,
   "id": "3f775ff0",
   "metadata": {},
   "outputs": [],
   "source": [
    "# suppose df is a pandas dataframe containing the result\n",
    "#df_train_sort_nonNaN.to_csv('zwischen.csv', index=False, float_format='%.3f')"
   ]
  },
  {
   "cell_type": "code",
   "execution_count": 13,
   "id": "9beec282",
   "metadata": {},
   "outputs": [],
   "source": [
    "#df_train_sort_nonNaN"
   ]
  },
  {
   "cell_type": "code",
   "execution_count": 14,
   "id": "252e342a",
   "metadata": {},
   "outputs": [],
   "source": [
    "#df_first = df_train_sort.head(12)\n",
    "#df_first"
   ]
  },
  {
   "cell_type": "code",
   "execution_count": 15,
   "id": "0f61d0e7",
   "metadata": {},
   "outputs": [],
   "source": [
    "#train_features = train_features.drop(columns='Time')\n",
    "#train_features = train_features.drop(columns='HCO3')\n",
    "#train_features = train_features.drop(columns='ABPm')\n",
    "#train_features = train_features.fillna(train_features.mean())\n",
    "#df_train_sort_nonNaN\n",
    "\n",
    "\n",
    "train_features = df_train_sort_nonNaN.to_numpy()\n",
    "pids = np.unique(train_features[:,0])\n",
    "#print(len(pids))\n",
    "# have to somehow exclude age?\n",
    "\n",
    "train_features = train_features[:,1:]\n",
    "train_features = train_features.reshape((len(pids),12*train_features.shape[-1]))\n",
    "#print(train_features.shape)"
   ]
  },
  {
   "cell_type": "code",
   "execution_count": 16,
   "id": "3aa3d973",
   "metadata": {},
   "outputs": [],
   "source": [
    "from sklearn.discriminant_analysis import LinearDiscriminantAnalysis\n",
    "df_train_nopid_time = df_train_sort_nonNaN.drop(columns=['pid','Time'])\n",
    "#print(df_train_nopid_time)\n",
    "X = df_train_sort_nonNaN.to_numpy(dtype=float)\n",
    "#print(X.shape)\n",
    "y = df_subtask1['LABEL_BaseExcess'].to_numpy(dtype=float)\n",
    "clf = LinearDiscriminantAnalysis()\n",
    "#print(y.shape)"
   ]
  },
  {
   "cell_type": "code",
   "execution_count": 17,
   "id": "3c01c5a8",
   "metadata": {},
   "outputs": [],
   "source": [
    "#c = clf.fit(X, y)"
   ]
  },
  {
   "cell_type": "code",
   "execution_count": null,
   "id": "a6a8ce74",
   "metadata": {},
   "outputs": [],
   "source": []
  },
  {
   "cell_type": "code",
   "execution_count": null,
   "id": "6a049205",
   "metadata": {},
   "outputs": [],
   "source": []
  },
  {
   "cell_type": "code",
   "execution_count": null,
   "id": "a3cd0638",
   "metadata": {},
   "outputs": [],
   "source": []
  },
  {
   "cell_type": "code",
   "execution_count": null,
   "id": "8f700e4a",
   "metadata": {},
   "outputs": [],
   "source": []
  },
  {
   "cell_type": "code",
   "execution_count": null,
   "id": "debc27e1",
   "metadata": {},
   "outputs": [],
   "source": []
  },
  {
   "cell_type": "code",
   "execution_count": null,
   "id": "c5e2f437",
   "metadata": {},
   "outputs": [],
   "source": []
  }
 ],
 "metadata": {
  "kernelspec": {
   "display_name": "Python 3",
   "language": "python",
   "name": "python3"
  },
  "language_info": {
   "codemirror_mode": {
    "name": "ipython",
    "version": 3
   },
   "file_extension": ".py",
   "mimetype": "text/x-python",
   "name": "python",
   "nbconvert_exporter": "python",
   "pygments_lexer": "ipython3",
   "version": "3.8.8"
  }
 },
 "nbformat": 4,
 "nbformat_minor": 5
}
