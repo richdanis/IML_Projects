{
 "cells": [
  {
   "cell_type": "code",
   "execution_count": 1,
   "id": "b147800f",
   "metadata": {},
   "outputs": [],
   "source": [
    "import pandas as pd\n",
    "import numpy as np\n",
    "import sklearn as sk\n",
    "import seaborn as sns\n",
    "from sklearn.discriminant_analysis import LinearDiscriminantAnalysis\n",
    "from sklearn.linear_model import SGDClassifier\n",
    "from sklearn.model_selection import cross_val_score\n",
    "from sklearn.preprocessing import PolynomialFeatures\n",
    "from sklearn.feature_selection import SelectKBest"
   ]
  },
  {
   "cell_type": "code",
   "execution_count": 2,
   "id": "2f9c4d29",
   "metadata": {},
   "outputs": [],
   "source": [
    "pd.set_option('display.max_rows', 30)\n",
    "pd.set_option('display.max_columns', None)"
   ]
  },
  {
   "cell_type": "code",
   "execution_count": 3,
   "id": "cb25bd0d",
   "metadata": {},
   "outputs": [],
   "source": [
    "train_str = 'data_interpolated_means.csv'\n",
    "labels_str = 'labels_sorted.csv'\n",
    "test_str = 'test_features.csv'\n",
    "\n",
    "df_train = pd.read_csv(train_str)\n",
    "df_labels = pd.read_csv(labels_str)\n",
    "df_test = pd.read_csv(test_str)"
   ]
  },
  {
   "cell_type": "code",
   "execution_count": 4,
   "id": "c0197251",
   "metadata": {},
   "outputs": [
    {
     "name": "stdout",
     "output_type": "stream",
     "text": [
      "(227940, 37)\n"
     ]
    }
   ],
   "source": [
    "print(df_train.shape)\n",
    "df = df_train.copy()"
   ]
  },
  {
   "cell_type": "code",
   "execution_count": 5,
   "id": "8159d7b5",
   "metadata": {},
   "outputs": [],
   "source": [
    "df_labels = df_labels.sort_values(by=['pid'])\n",
    "\n",
    "TEST1 = ['LABEL_BaseExcess', 'LABEL_Fibrinogen', 'LABEL_AST', 'LABEL_Alkalinephos', 'LABEL_Bilirubin_total', 'LABEL_Lactate',\n",
    "         'LABEL_TroponinI', 'LABEL_SaO2', 'LABEL_Bilirubin_direct', 'LABEL_EtCO2']\n",
    "TEST2 = ['LABEL_Sepsis']\n",
    "TEST3 = ['LABEL_RRate', 'LABEL_ABPm', 'LABEL_SpO2', 'LABEL_Heartrate']\n",
    "\n",
    "df_subtask1 = df_labels[TEST1]\n",
    "df_subtask2 = df_labels[TEST2]\n",
    "df_subtask3 = df_labels[TEST3]"
   ]
  },
  {
   "cell_type": "code",
   "execution_count": 6,
   "id": "61cca3ec",
   "metadata": {},
   "outputs": [],
   "source": [
    "df_np = df.copy().to_numpy()"
   ]
  },
  {
   "cell_type": "code",
   "execution_count": 7,
   "id": "1cd6246d",
   "metadata": {},
   "outputs": [],
   "source": [
    "df_np = df.copy().to_numpy()\n",
    "\n",
    "pids = np.unique(df_np[:,0]).astype(int)\n",
    "\n",
    "# get rid of pid and Time\n",
    "df_np = df_np[:,2:]\n",
    "\n",
    "# get the ages\n",
    "age = df_np[::12,0]\n",
    "age = age.reshape((len(age),1))\n",
    "\n",
    "# get rid of the ages \n",
    "df_np = df_np[:,1:]\n",
    "\n",
    "# redefine the matix -> all time data is in one line\n",
    "df_np = df_np.reshape((len(pids),12*df_np.shape[-1]))\n",
    "\n",
    "#add the age back\n",
    "df_np = np.hstack((age,df_np))\n",
    "\n",
    "#print(df_np.shape)\n",
    "#df_np[0]"
   ]
  },
  {
   "cell_type": "code",
   "execution_count": 8,
   "id": "b43bb295",
   "metadata": {
    "scrolled": true
   },
   "outputs": [
    {
     "name": "stdout",
     "output_type": "stream",
     "text": [
      "(18995, 409)\n",
      "(18995,)\n"
     ]
    }
   ],
   "source": [
    "X = df_np\n",
    "y = df_subtask1['LABEL_BaseExcess'].to_numpy(dtype=float)\n",
    "\n",
    "print(X.shape)\n",
    "print(y.shape)"
   ]
  },
  {
   "cell_type": "code",
   "execution_count": 9,
   "id": "3b405e73",
   "metadata": {},
   "outputs": [
    {
     "data": {
      "text/plain": [
       "LinearDiscriminantAnalysis()"
      ]
     },
     "execution_count": 9,
     "metadata": {},
     "output_type": "execute_result"
    }
   ],
   "source": [
    "clf = LinearDiscriminantAnalysis()\n",
    "clf.fit(X, y)"
   ]
  },
  {
   "cell_type": "code",
   "execution_count": 10,
   "id": "2707224f",
   "metadata": {},
   "outputs": [
    {
     "ename": "ValueError",
     "evalue": "X has 2 features per sample; expecting 409",
     "output_type": "error",
     "traceback": [
      "\u001b[1;31m---------------------------------------------------------------------------\u001b[0m",
      "\u001b[1;31mValueError\u001b[0m                                Traceback (most recent call last)",
      "\u001b[1;32m<ipython-input-10-a8610c4e55ac>\u001b[0m in \u001b[0;36m<module>\u001b[1;34m\u001b[0m\n\u001b[1;32m----> 1\u001b[1;33m \u001b[0mprint\u001b[0m\u001b[1;33m(\u001b[0m\u001b[0mclf\u001b[0m\u001b[1;33m.\u001b[0m\u001b[0mpredict\u001b[0m\u001b[1;33m(\u001b[0m\u001b[1;33m[\u001b[0m\u001b[1;33m[\u001b[0m\u001b[1;33m-\u001b[0m\u001b[1;36m0.8\u001b[0m\u001b[1;33m,\u001b[0m \u001b[1;33m-\u001b[0m\u001b[1;36m1\u001b[0m\u001b[1;33m]\u001b[0m\u001b[1;33m]\u001b[0m\u001b[1;33m)\u001b[0m\u001b[1;33m)\u001b[0m\u001b[1;33m\u001b[0m\u001b[1;33m\u001b[0m\u001b[0m\n\u001b[0m",
      "\u001b[1;32m~\\anaconda3\\lib\\site-packages\\sklearn\\linear_model\\_base.py\u001b[0m in \u001b[0;36mpredict\u001b[1;34m(self, X)\u001b[0m\n\u001b[0;32m    307\u001b[0m             \u001b[0mPredicted\u001b[0m \u001b[1;32mclass\u001b[0m \u001b[0mlabel\u001b[0m \u001b[0mper\u001b[0m \u001b[0msample\u001b[0m\u001b[1;33m.\u001b[0m\u001b[1;33m\u001b[0m\u001b[1;33m\u001b[0m\u001b[0m\n\u001b[0;32m    308\u001b[0m         \"\"\"\n\u001b[1;32m--> 309\u001b[1;33m         \u001b[0mscores\u001b[0m \u001b[1;33m=\u001b[0m \u001b[0mself\u001b[0m\u001b[1;33m.\u001b[0m\u001b[0mdecision_function\u001b[0m\u001b[1;33m(\u001b[0m\u001b[0mX\u001b[0m\u001b[1;33m)\u001b[0m\u001b[1;33m\u001b[0m\u001b[1;33m\u001b[0m\u001b[0m\n\u001b[0m\u001b[0;32m    310\u001b[0m         \u001b[1;32mif\u001b[0m \u001b[0mlen\u001b[0m\u001b[1;33m(\u001b[0m\u001b[0mscores\u001b[0m\u001b[1;33m.\u001b[0m\u001b[0mshape\u001b[0m\u001b[1;33m)\u001b[0m \u001b[1;33m==\u001b[0m \u001b[1;36m1\u001b[0m\u001b[1;33m:\u001b[0m\u001b[1;33m\u001b[0m\u001b[1;33m\u001b[0m\u001b[0m\n\u001b[0;32m    311\u001b[0m             \u001b[0mindices\u001b[0m \u001b[1;33m=\u001b[0m \u001b[1;33m(\u001b[0m\u001b[0mscores\u001b[0m \u001b[1;33m>\u001b[0m \u001b[1;36m0\u001b[0m\u001b[1;33m)\u001b[0m\u001b[1;33m.\u001b[0m\u001b[0mastype\u001b[0m\u001b[1;33m(\u001b[0m\u001b[0mint\u001b[0m\u001b[1;33m)\u001b[0m\u001b[1;33m\u001b[0m\u001b[1;33m\u001b[0m\u001b[0m\n",
      "\u001b[1;32m~\\anaconda3\\lib\\site-packages\\sklearn\\discriminant_analysis.py\u001b[0m in \u001b[0;36mdecision_function\u001b[1;34m(self, X)\u001b[0m\n\u001b[0;32m    655\u001b[0m         \"\"\"\n\u001b[0;32m    656\u001b[0m         \u001b[1;31m# Only override for the doc\u001b[0m\u001b[1;33m\u001b[0m\u001b[1;33m\u001b[0m\u001b[1;33m\u001b[0m\u001b[0m\n\u001b[1;32m--> 657\u001b[1;33m         \u001b[1;32mreturn\u001b[0m \u001b[0msuper\u001b[0m\u001b[1;33m(\u001b[0m\u001b[1;33m)\u001b[0m\u001b[1;33m.\u001b[0m\u001b[0mdecision_function\u001b[0m\u001b[1;33m(\u001b[0m\u001b[0mX\u001b[0m\u001b[1;33m)\u001b[0m\u001b[1;33m\u001b[0m\u001b[1;33m\u001b[0m\u001b[0m\n\u001b[0m\u001b[0;32m    658\u001b[0m \u001b[1;33m\u001b[0m\u001b[0m\n\u001b[0;32m    659\u001b[0m \u001b[1;33m\u001b[0m\u001b[0m\n",
      "\u001b[1;32m~\\anaconda3\\lib\\site-packages\\sklearn\\linear_model\\_base.py\u001b[0m in \u001b[0;36mdecision_function\u001b[1;34m(self, X)\u001b[0m\n\u001b[0;32m    286\u001b[0m         \u001b[0mn_features\u001b[0m \u001b[1;33m=\u001b[0m \u001b[0mself\u001b[0m\u001b[1;33m.\u001b[0m\u001b[0mcoef_\u001b[0m\u001b[1;33m.\u001b[0m\u001b[0mshape\u001b[0m\u001b[1;33m[\u001b[0m\u001b[1;36m1\u001b[0m\u001b[1;33m]\u001b[0m\u001b[1;33m\u001b[0m\u001b[1;33m\u001b[0m\u001b[0m\n\u001b[0;32m    287\u001b[0m         \u001b[1;32mif\u001b[0m \u001b[0mX\u001b[0m\u001b[1;33m.\u001b[0m\u001b[0mshape\u001b[0m\u001b[1;33m[\u001b[0m\u001b[1;36m1\u001b[0m\u001b[1;33m]\u001b[0m \u001b[1;33m!=\u001b[0m \u001b[0mn_features\u001b[0m\u001b[1;33m:\u001b[0m\u001b[1;33m\u001b[0m\u001b[1;33m\u001b[0m\u001b[0m\n\u001b[1;32m--> 288\u001b[1;33m             raise ValueError(\"X has %d features per sample; expecting %d\"\n\u001b[0m\u001b[0;32m    289\u001b[0m                              % (X.shape[1], n_features))\n\u001b[0;32m    290\u001b[0m \u001b[1;33m\u001b[0m\u001b[0m\n",
      "\u001b[1;31mValueError\u001b[0m: X has 2 features per sample; expecting 409"
     ]
    }
   ],
   "source": [
    "print(clf.predict([[-0.8, -1]]))"
   ]
  },
  {
   "cell_type": "code",
   "execution_count": 16,
   "id": "10d746e9",
   "metadata": {},
   "outputs": [
    {
     "name": "stdout",
     "output_type": "stream",
     "text": [
      "label: LABEL_BaseExcess\n",
      "[0.91526316 0.92157895 0.92105263 0.92263158 0.87736842 0.90152712\n",
      " 0.91943128 0.90521327 0.8957346  0.91416535]\n",
      "label: LABEL_Fibrinogen\n",
      "[0.74473684 0.72947368 0.73263158 0.73684211 0.73210526 0.71563981\n",
      " 0.73986309 0.74828857 0.74776198 0.72985782]\n",
      "label: LABEL_AST\n",
      "[0.73       0.71894737 0.72947368 0.73052632 0.73736842 0.76671933\n",
      " 0.71774618 0.74144286 0.74460242 0.73301738]\n",
      "label: LABEL_Alkalinephos\n",
      "[0.73736842 0.72421053 0.75684211 0.73894737 0.72789474 0.7314376\n",
      " 0.7161664  0.72880463 0.72617167 0.73512375]\n",
      "label: LABEL_Bilirubin_total\n",
      "[0.80789474 0.78894737 0.76421053 0.78263158 0.77789474 0.77356503\n",
      " 0.77567141 0.75566087 0.76724592 0.80252765]\n",
      "label: LABEL_Lactate\n",
      "[0.87473684 0.85421053 0.86       0.87157895 0.88315789 0.87993681\n",
      " 0.87256451 0.88256977 0.87730384 0.90258031]\n",
      "label: LABEL_TroponinI\n",
      "[0.78578947 0.75894737 0.76052632 0.76105263 0.78789474 0.73512375\n",
      " 0.7535545  0.75302791 0.77303844 0.71248025]\n",
      "label: LABEL_SaO2\n",
      "[0.95421053 0.96105263 0.95684211 0.95578947 0.95684211 0.95471301\n",
      " 0.95892575 0.95681938 0.95313323 0.95839916]\n",
      "label: LABEL_Bilirubin_direct\n",
      "[0.93631579 0.91894737 0.91       0.92105263 0.92210526 0.90995261\n",
      " 0.89468141 0.92680358 0.92364402 0.92101106]\n"
     ]
    }
   ],
   "source": [
    "df_try = df.copy()\n",
    "# PREPARING TRAINING FEATURES\n",
    "df_try = df_try.drop(columns=['Time'])\n",
    "\n",
    "# fill NaN with median for each column\n",
    "df_try=(df_try-df_try.mean())/df_try.std()\n",
    "\n",
    "# convert to numpy array\n",
    "X = df_try.to_numpy()\n",
    "pids = np.unique(X[:,0])\n",
    "\n",
    "# exclude pids\n",
    "X = X[:,1:]\n",
    "age = X[::12,0]\n",
    "age = age.reshape((len(age),1))\n",
    "\n",
    "# exclude ages\n",
    "X = X[:,1:]\n",
    "X = X.reshape((len(pids),12*X.shape[-1]))\n",
    "X = np.hstack((age,X))\n",
    "\n",
    "#poly = PolynomialFeatures(10)\n",
    "\n",
    "# PREPARING TRAINING LABELS\n",
    "\n",
    "y = df_subtask1.copy().to_numpy()\n",
    "y = y[:,1:]\n",
    "\n",
    "#accuracy = np.empty((y.shape[1],))\n",
    "\n",
    "clf = SGDClassifier()\n",
    "for i in range(y.shape[1]):\n",
    "    print(\"label: \" + TEST1[i])\n",
    "    X_new = SelectKBest(k=409).fit_transform(X, y[:,i])\n",
    "    #X_new = poly.fit_transform(X_new)\n",
    "    scores = cross_val_score(clf, X_new, y[:,i], cv=10)\n",
    "    print(scores)\n",
    "\n",
    "#for i in range(y.shape[1]):\n",
    "    #clf = LogisticRegressionCV(cv=10, max_iter=100, solver='sag').fit(X,y[:,i])\n",
    "    #accuracy[i] = clf.score(X,y)"
   ]
  },
  {
   "cell_type": "code",
   "execution_count": 13,
   "id": "051f7bb6",
   "metadata": {},
   "outputs": [
    {
     "data": {
      "text/plain": [
       "(18995, 409)"
      ]
     },
     "execution_count": 13,
     "metadata": {},
     "output_type": "execute_result"
    }
   ],
   "source": [
    "X.shape"
   ]
  },
  {
   "cell_type": "code",
   "execution_count": 18,
   "id": "d5e89d06",
   "metadata": {},
   "outputs": [
    {
     "data": {
      "text/plain": [
       "(18995, 9)"
      ]
     },
     "execution_count": 18,
     "metadata": {},
     "output_type": "execute_result"
    }
   ],
   "source": [
    "y.shape"
   ]
  }
 ],
 "metadata": {
  "kernelspec": {
   "display_name": "Python 3",
   "language": "python",
   "name": "python3"
  },
  "language_info": {
   "codemirror_mode": {
    "name": "ipython",
    "version": 3
   },
   "file_extension": ".py",
   "mimetype": "text/x-python",
   "name": "python",
   "nbconvert_exporter": "python",
   "pygments_lexer": "ipython3",
   "version": "3.8.8"
  }
 },
 "nbformat": 4,
 "nbformat_minor": 5
}
