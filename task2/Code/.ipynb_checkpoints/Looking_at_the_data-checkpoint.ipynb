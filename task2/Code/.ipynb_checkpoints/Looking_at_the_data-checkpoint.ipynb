{
 "cells": [
  {
   "cell_type": "code",
   "execution_count": null,
   "id": "b147800f",
   "metadata": {},
   "outputs": [],
   "source": [
    "import pandas as pd\n",
    "import numpy as np"
   ]
  },
  {
   "cell_type": "code",
   "execution_count": null,
   "id": "cb25bd0d",
   "metadata": {},
   "outputs": [],
   "source": [
    "train_str = 'train_features.csv'\n",
    "labels_str = 'train_labels.csv'\n",
    "df_train_unsorted = pd.read_csv(train_str)\n",
    "df_labels_unsorted = pd.read_csv(labels_str)"
   ]
  },
  {
   "cell_type": "code",
   "execution_count": null,
   "id": "2f9c4d29",
   "metadata": {},
   "outputs": [],
   "source": [
    "pd.set_option('display.max_rows', 30)\n",
    "pd.set_option('display.max_columns', None)"
   ]
  },
  {
   "cell_type": "code",
   "execution_count": null,
   "id": "5962115e",
   "metadata": {},
   "outputs": [],
   "source": [
    "#finding pid of the argmax time and print all of the rows\n",
    "time_arg_max = df_train_unsorted['Time'].argmax()\n",
    "time_arg_max_pid = df_train_unsorted.iloc[time_arg_max].pid\n",
    "df_time = df_train_unsorted[df_train_unsorted.pid == time_arg_max_pid]"
   ]
  },
  {
   "cell_type": "code",
   "execution_count": null,
   "id": "b3fcc8d4",
   "metadata": {},
   "outputs": [],
   "source": [
    "df_train_sort = df_train_unsorted.sort_values(['pid','Time'], ascending=[True, True]).reset_index()\n",
    "col = df_train_sort.columns.get_loc('Time')\n",
    "num_of_row = df_train_sort.shape[0]\n",
    "for i in range(num_of_row):\n",
    "    df_train_sort.iat[i,col] = i%12 + 1\n",
    "\n",
    "df_train_sort = df_train_sort.drop(columns='index')"
   ]
  },
  {
   "cell_type": "code",
   "execution_count": null,
   "id": "5e183396",
   "metadata": {},
   "outputs": [],
   "source": [
    "# df_train_sort is sorted by 'pid'&'Time'-labels and has increasing index\n",
    "# df_train_sort"
   ]
  },
  {
   "cell_type": "code",
   "execution_count": null,
   "id": "e2c901e5",
   "metadata": {},
   "outputs": [],
   "source": [
    "df_first = df_train_sort.head(12).copy()\n",
    "#df_first"
   ]
  },
  {
   "cell_type": "code",
   "execution_count": null,
   "id": "7851300a",
   "metadata": {},
   "outputs": [],
   "source": [
    "# just the first two patitients\n",
    "# df_part = df_train_sort.head(12*2).copy()\n",
    "# df_part"
   ]
  },
  {
   "cell_type": "code",
   "execution_count": null,
   "id": "4184d7e8",
   "metadata": {},
   "outputs": [],
   "source": [
    "# interpolated values for all partients if at least one value per colom\n",
    "\n",
    "df_interpol = df_train_sort\n",
    "for i in range(len(df_interpol.pid.unique())):\n",
    "    if i%500 == 0:\n",
    "        print(i)\n",
    "    mask = df_interpol.loc[:,'pid'] == df_interpol.pid.unique()[i]\n",
    "    df_interpol[mask] = df_interpol[mask].interpolate().fillna(method='bfill')"
   ]
  },
  {
   "cell_type": "code",
   "execution_count": null,
   "id": "4ee7c75d",
   "metadata": {},
   "outputs": [],
   "source": [
    "pd.set_option('display.max_columns', None)"
   ]
  },
  {
   "cell_type": "code",
   "execution_count": null,
   "id": "eb6fb131",
   "metadata": {},
   "outputs": [],
   "source": [
    "df_interpol_means = df_interpol.copy()"
   ]
  },
  {
   "cell_type": "code",
   "execution_count": null,
   "id": "451f6c6c",
   "metadata": {},
   "outputs": [],
   "source": [
    "df_interpol_means = df_interpol_means.fillna(df_interpol_means.mean())"
   ]
  },
  {
   "cell_type": "code",
   "execution_count": null,
   "id": "59e17d43",
   "metadata": {},
   "outputs": [],
   "source": [
    "df_labels"
   ]
  },
  {
   "cell_type": "code",
   "execution_count": null,
   "id": "3b405e73",
   "metadata": {},
   "outputs": [],
   "source": [
    "df_labels = df_labels_unsorted.sort_values('pid', ascending=True).reset_index()\n",
    "\n",
    "#col = df_train_sort.columns.get_loc('Time')\n",
    "#num_of_row = df_train_sort.shape[0]\n",
    "#for i in range(num_of_row):\n",
    "#    df_train_sort.iat[i,col] = i%12 + 1\n",
    "\n",
    "df_labels = df_labels.drop(columns='index')\n",
    "df_labels"
   ]
  },
  {
   "cell_type": "code",
   "execution_count": null,
   "id": "44b0706b",
   "metadata": {},
   "outputs": [],
   "source": [
    "# suppose df is a pandas dataframe containing the result\n",
    "df_interpol.to_csv('data_interpolated.csv', index=False, float_format='%.3f')\n",
    "df_interpol_means.to_csv('data_interpolated_means.csv', index=False, float_format='%.3f')\n",
    "df_labels.to_csv('labels_sorted.csv', index=False, float_format='%.1f')"
   ]
  },
  {
   "cell_type": "code",
   "execution_count": null,
   "id": "10d746e9",
   "metadata": {},
   "outputs": [],
   "source": [
    "test_features = 'test_features.csv'\n",
    "df_test = pd.read_csv(test_features)\n",
    "df_test = df_test.drop(columns='Time')"
   ]
  },
  {
   "cell_type": "code",
   "execution_count": null,
   "id": "36493808",
   "metadata": {
    "scrolled": true
   },
   "outputs": [],
   "source": [
    "#df_test.head(24)"
   ]
  },
  {
   "cell_type": "code",
   "execution_count": null,
   "id": "8ff30583",
   "metadata": {},
   "outputs": [],
   "source": [
    "df_test_short_means = df_test.copy()\n",
    "df_test_short_means\n",
    "for i in range(len(df_test_short_means.pid.unique())):\n",
    "    if i%500 == 0:\n",
    "        print(i)\n",
    "    mask = df_test_short_means.loc[:,'pid'] == df_test_short_means.pid.unique()[i]\n",
    "    df_test_short_means[mask] = df_test_short_means[mask].fillna(df_test_short_means[mask].mean())\n",
    "\n",
    "df_test_short_means = df_test_short_means.fillna(df_test_short_means.mean())\n",
    "df_test_short_means"
   ]
  },
  {
   "cell_type": "code",
   "execution_count": null,
   "id": "1d313d63",
   "metadata": {},
   "outputs": [],
   "source": [
    "df_test_short_means = df_test_short_means.fillna(df_test_short_means.mean())\n",
    "df_test_short_means"
   ]
  },
  {
   "cell_type": "code",
   "execution_count": null,
   "id": "94f1bd5c",
   "metadata": {},
   "outputs": [],
   "source": [
    "df_test_short_means.shape\n",
    "out = (df_test_short_means.shape[0]//12,df_test_short_means.shape[1])\n",
    "out"
   ]
  },
  {
   "cell_type": "code",
   "execution_count": null,
   "id": "04e309ee",
   "metadata": {},
   "outputs": [],
   "source": [
    "np_test = np.empty((out))\n",
    "df_test_short_ = df_test_short_means.copy()\n",
    "\n",
    "for i in range(len(df_test_short_.pid.unique())):\n",
    "    mask = df_test_short_.loc[:,'pid'] == df_test_short_.pid.unique()[i]\n",
    "    np_test[i,:] = df_test_short_[mask].mean()\n",
    "    \n",
    "df_test_short = pd.DataFrame(np_test, columns=df_test_short_.columns)\n",
    "df_test_short"
   ]
  },
  {
   "cell_type": "code",
   "execution_count": null,
   "id": "bdf3a9d5",
   "metadata": {},
   "outputs": [],
   "source": [
    "df_test_short = df_test_short.astype({'pid':'int32'})\n",
    "df_test_short"
   ]
  },
  {
   "cell_type": "code",
   "execution_count": null,
   "id": "1e4a32e5",
   "metadata": {},
   "outputs": [],
   "source": [
    "df_test_short.to_csv('testdata_means_short.csv', index=False, float_format='%.3f')"
   ]
  },
  {
   "cell_type": "code",
   "execution_count": null,
   "id": "b27a9c81",
   "metadata": {},
   "outputs": [],
   "source": []
  }
 ],
 "metadata": {
  "kernelspec": {
   "display_name": "Python 3",
   "language": "python",
   "name": "python3"
  },
  "language_info": {
   "codemirror_mode": {
    "name": "ipython",
    "version": 3
   },
   "file_extension": ".py",
   "mimetype": "text/x-python",
   "name": "python",
   "nbconvert_exporter": "python",
   "pygments_lexer": "ipython3",
   "version": "3.8.8"
  }
 },
 "nbformat": 4,
 "nbformat_minor": 5
}
