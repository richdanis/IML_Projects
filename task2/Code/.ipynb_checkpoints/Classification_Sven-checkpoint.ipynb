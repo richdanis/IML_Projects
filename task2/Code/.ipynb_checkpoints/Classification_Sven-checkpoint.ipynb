{
 "cells": [
  {
   "cell_type": "code",
   "execution_count": 82,
   "id": "b147800f",
   "metadata": {},
   "outputs": [],
   "source": [
    "import pandas as pd\n",
    "import numpy as np\n",
    "import sklearn as sk\n",
    "from sklearn.discriminant_analysis import LinearDiscriminantAnalysis"
   ]
  },
  {
   "cell_type": "code",
   "execution_count": 11,
   "id": "2f9c4d29",
   "metadata": {},
   "outputs": [],
   "source": [
    "pd.set_option('display.max_rows', 30)\n",
    "pd.set_option('display.max_columns', None)"
   ]
  },
  {
   "cell_type": "code",
   "execution_count": 12,
   "id": "cb25bd0d",
   "metadata": {},
   "outputs": [],
   "source": [
    "train_str = 'data_interpolated_means.csv'\n",
    "labels_str = 'labels_sorted.csv'\n",
    "\n",
    "df_train = pd.read_csv(train_str)\n",
    "df_labels = pd.read_csv(labels_str)"
   ]
  },
  {
   "cell_type": "code",
   "execution_count": 37,
   "id": "c0197251",
   "metadata": {},
   "outputs": [
    {
     "name": "stdout",
     "output_type": "stream",
     "text": [
      "(227940, 37)\n"
     ]
    }
   ],
   "source": [
    "print(df_train.shape)\n",
    "df = df_train.copy()"
   ]
  },
  {
   "cell_type": "code",
   "execution_count": 20,
   "id": "c257833d",
   "metadata": {},
   "outputs": [
    {
     "data": {
      "text/plain": [
       "(18995, 16)"
      ]
     },
     "execution_count": 20,
     "metadata": {},
     "output_type": "execute_result"
    }
   ],
   "source": [
    "df_labels.shape"
   ]
  },
  {
   "cell_type": "code",
   "execution_count": 17,
   "id": "8159d7b5",
   "metadata": {},
   "outputs": [],
   "source": [
    "TEST1 = ['LABEL_BaseExcess', 'LABEL_Fibrinogen', 'LABEL_AST', 'LABEL_Alkalinephos', 'LABEL_Bilirubin_total', 'LABEL_Lactate',\n",
    "         'LABEL_TroponinI', 'LABEL_SaO2', 'LABEL_Bilirubin_direct', 'LABEL_EtCO2']\n",
    "TEST2 = ['LABEL_Sepsis']\n",
    "TEST3 = ['LABEL_RRate', 'LABEL_ABPm', 'LABEL_SpO2', 'LABEL_Heartrate']\n",
    "\n",
    "df_subtask1 = df_labels[TEST1]\n",
    "df_subtask2 = df_labels[TEST2]\n",
    "df_subtask3 = df_labels[TEST3]"
   ]
  },
  {
   "cell_type": "code",
   "execution_count": 78,
   "id": "2f5dea96",
   "metadata": {},
   "outputs": [
    {
     "name": "stdout",
     "output_type": "stream",
     "text": [
      "409\n"
     ]
    }
   ],
   "source": [
    "print(12*(37-3)+1)"
   ]
  },
  {
   "cell_type": "code",
   "execution_count": 66,
   "id": "61cca3ec",
   "metadata": {},
   "outputs": [],
   "source": [
    "df_np = df.copy().to_numpy()"
   ]
  },
  {
   "cell_type": "code",
   "execution_count": 67,
   "id": "5e4588af",
   "metadata": {},
   "outputs": [
    {
     "data": {
      "text/plain": [
       "(227940, 37)"
      ]
     },
     "execution_count": 67,
     "metadata": {},
     "output_type": "execute_result"
    }
   ],
   "source": [
    "df_np.shape"
   ]
  },
  {
   "cell_type": "code",
   "execution_count": 80,
   "id": "1cd6246d",
   "metadata": {},
   "outputs": [],
   "source": [
    "df_np = df.copy().to_numpy()\n",
    "\n",
    "pids = np.unique(df_np[:,0]).astype(int)\n",
    "\n",
    "# get rid of pid and Time\n",
    "df_np = df_np[:,2:]\n",
    "\n",
    "# get the ages\n",
    "age = df_np[::12,0]\n",
    "age = age.reshape((len(age),1))\n",
    "\n",
    "# get rid of the ages \n",
    "df_np = df_np[:,1:]\n",
    "\n",
    "# redefine the matix -> all time data is in one line\n",
    "df_np = df_np.reshape((len(pids),12*df_np.shape[-1]))\n",
    "\n",
    "#add the age back\n",
    "df_np = np.hstack((age,df_np))\n",
    "\n",
    "#print(df_np.shape)\n",
    "#df_np[0]"
   ]
  },
  {
   "cell_type": "code",
   "execution_count": 81,
   "id": "3d038c5a",
   "metadata": {
    "collapsed": true
   },
   "outputs": [
    {
     "data": {
      "text/plain": [
       "array([[3.4000e+01, 3.2893e+01, 3.8657e+01, ..., 6.4520e+00, 1.0200e+02,\n",
       "        7.3900e+00],\n",
       "       [8.6000e+01, 3.2893e+01, 3.1800e+01, ..., 4.4000e-01, 1.3600e+02,\n",
       "        7.3770e+00],\n",
       "       [6.6000e+01, 3.2893e+01, 3.4600e+01, ..., 2.0000e-02, 9.6000e+01,\n",
       "        7.3770e+00],\n",
       "       ...,\n",
       "       [4.4000e+01, 3.2893e+01, 3.8657e+01, ..., 6.4520e+00, 1.0400e+02,\n",
       "        7.3300e+00],\n",
       "       [7.0000e+01, 3.2893e+01, 3.8657e+01, ..., 6.4520e+00, 1.0600e+02,\n",
       "        7.3770e+00],\n",
       "       [6.0000e+01, 3.2893e+01, 3.8657e+01, ..., 6.4520e+00, 1.3500e+02,\n",
       "        7.3770e+00]])"
      ]
     },
     "execution_count": 81,
     "metadata": {},
     "output_type": "execute_result"
    }
   ],
   "source": [
    "df_np"
   ]
  },
  {
   "cell_type": "code",
   "execution_count": 83,
   "id": "b43bb295",
   "metadata": {
    "scrolled": true
   },
   "outputs": [
    {
     "name": "stdout",
     "output_type": "stream",
     "text": [
      "(18995, 409)\n",
      "(18995,)\n"
     ]
    }
   ],
   "source": [
    "X = df_np\n",
    "y = df_subtask1['LABEL_BaseExcess'].to_numpy(dtype=float)\n",
    "\n",
    "print(X.shape)\n",
    "print(y.shape)"
   ]
  },
  {
   "cell_type": "code",
   "execution_count": 85,
   "id": "3b405e73",
   "metadata": {},
   "outputs": [
    {
     "data": {
      "text/plain": [
       "LinearDiscriminantAnalysis()"
      ]
     },
     "execution_count": 85,
     "metadata": {},
     "output_type": "execute_result"
    }
   ],
   "source": [
    "clf = LinearDiscriminantAnalysis()\n",
    "clf.fit(X, y)"
   ]
  },
  {
   "cell_type": "code",
   "execution_count": null,
   "id": "2707224f",
   "metadata": {},
   "outputs": [],
   "source": [
    "print(clf.predict([[-0.8, -1]]))"
   ]
  },
  {
   "cell_type": "code",
   "execution_count": null,
   "id": "10d746e9",
   "metadata": {},
   "outputs": [],
   "source": []
  },
  {
   "cell_type": "code",
   "execution_count": null,
   "id": "051f7bb6",
   "metadata": {},
   "outputs": [],
   "source": []
  },
  {
   "cell_type": "code",
   "execution_count": null,
   "id": "d5e89d06",
   "metadata": {},
   "outputs": [],
   "source": []
  }
 ],
 "metadata": {
  "kernelspec": {
   "display_name": "Python 3",
   "language": "python",
   "name": "python3"
  },
  "language_info": {
   "codemirror_mode": {
    "name": "ipython",
    "version": 3
   },
   "file_extension": ".py",
   "mimetype": "text/x-python",
   "name": "python",
   "nbconvert_exporter": "python",
   "pygments_lexer": "ipython3",
   "version": "3.8.8"
  }
 },
 "nbformat": 4,
 "nbformat_minor": 5
}
