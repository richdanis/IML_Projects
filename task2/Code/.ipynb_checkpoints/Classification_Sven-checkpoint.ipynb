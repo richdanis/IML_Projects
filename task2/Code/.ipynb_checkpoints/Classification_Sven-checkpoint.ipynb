{
 "cells": [
  {
   "cell_type": "code",
   "execution_count": null,
   "id": "b147800f",
   "metadata": {},
   "outputs": [],
   "source": [
    "import pandas as pd\n",
    "import numpy as np\n",
    "import sklearn as sk\n",
    "import seaborn as sns\n",
    "from sklearn.discriminant_analysis import LinearDiscriminantAnalysis\n",
    "from sklearn.linear_model import SGDClassifier\n",
    "from sklearn.model_selection import cross_val_score\n",
    "from sklearn.preprocessing import PolynomialFeatures\n",
    "from sklearn.feature_selection import SelectKBest"
   ]
  },
  {
   "cell_type": "code",
   "execution_count": null,
   "id": "2f9c4d29",
   "metadata": {},
   "outputs": [],
   "source": [
    "pd.set_option('display.max_rows', 30)\n",
    "pd.set_option('display.max_columns', None)"
   ]
  },
  {
   "cell_type": "code",
   "execution_count": null,
   "id": "cb25bd0d",
   "metadata": {},
   "outputs": [],
   "source": [
    "train_str = 'data_interpolated_means.csv'\n",
    "labels_str = 'labels_sorted.csv'\n",
    "test_str = 'test_features.csv'\n",
    "\n",
    "df_train = pd.read_csv(train_str)\n",
    "df_labels = pd.read_csv(labels_str)\n",
    "df_test = pd.read_csv(test_str)"
   ]
  },
  {
   "cell_type": "code",
   "execution_count": null,
   "id": "c0197251",
   "metadata": {},
   "outputs": [],
   "source": [
    "print(df_train.shape)\n",
    "df = df_train.copy()"
   ]
  },
  {
   "cell_type": "code",
   "execution_count": null,
   "id": "8159d7b5",
   "metadata": {},
   "outputs": [],
   "source": [
    "df_labels = df_labels.sort_values(by=['pid'])\n",
    "\n",
    "TEST1 = ['LABEL_BaseExcess', 'LABEL_Fibrinogen', 'LABEL_AST', 'LABEL_Alkalinephos', 'LABEL_Bilirubin_total', 'LABEL_Lactate',\n",
    "         'LABEL_TroponinI', 'LABEL_SaO2', 'LABEL_Bilirubin_direct', 'LABEL_EtCO2']\n",
    "TEST2 = ['LABEL_Sepsis']\n",
    "TEST3 = ['LABEL_RRate', 'LABEL_ABPm', 'LABEL_SpO2', 'LABEL_Heartrate']\n",
    "\n",
    "df_subtask1 = df_labels[TEST1]\n",
    "df_subtask2 = df_labels[TEST2]\n",
    "df_subtask3 = df_labels[TEST3]"
   ]
  },
  {
   "cell_type": "code",
   "execution_count": null,
   "id": "61cca3ec",
   "metadata": {},
   "outputs": [],
   "source": [
    "df_np = df.copy().to_numpy()"
   ]
  },
  {
   "cell_type": "code",
   "execution_count": null,
   "id": "1cd6246d",
   "metadata": {},
   "outputs": [],
   "source": [
    "df_np = df.copy().to_numpy()\n",
    "\n",
    "pids = np.unique(df_np[:,0]).astype(int)\n",
    "\n",
    "# get rid of pid and Time\n",
    "df_np = df_np[:,2:]\n",
    "\n",
    "# get the ages\n",
    "age = df_np[::12,0]\n",
    "age = age.reshape((len(age),1))\n",
    "\n",
    "# get rid of the ages \n",
    "df_np = df_np[:,1:]\n",
    "\n",
    "# redefine the matix -> all time data is in one line\n",
    "df_np = df_np.reshape((len(pids),12*df_np.shape[-1]))\n",
    "\n",
    "#add the age back\n",
    "df_np = np.hstack((age,df_np))\n",
    "\n",
    "#print(df_np.shape)\n",
    "#df_np[0]"
   ]
  },
  {
   "cell_type": "code",
   "execution_count": null,
   "id": "b43bb295",
   "metadata": {
    "scrolled": true
   },
   "outputs": [],
   "source": [
    "X = df_np\n",
    "y = df_subtask1['LABEL_BaseExcess'].to_numpy(dtype=float)\n",
    "\n",
    "print(X.shape)\n",
    "print(y.shape)"
   ]
  },
  {
   "cell_type": "code",
   "execution_count": null,
   "id": "3b405e73",
   "metadata": {},
   "outputs": [],
   "source": [
    "clf = LinearDiscriminantAnalysis()\n",
    "clf.fit(X, y)"
   ]
  },
  {
   "cell_type": "code",
   "execution_count": null,
   "id": "2707224f",
   "metadata": {},
   "outputs": [],
   "source": [
    "print(clf.predict([[-0.8, -1]]))"
   ]
  },
  {
   "cell_type": "code",
   "execution_count": null,
   "id": "10d746e9",
   "metadata": {},
   "outputs": [],
   "source": [
    "df_try = df.copy()\n",
    "# PREPARING TRAINING FEATURES\n",
    "df_try = df_try.drop(columns=['Time'])\n",
    "\n",
    "# fill NaN with median for each column\n",
    "df_try=(df_try-df_try.mean())/df_try.std()\n",
    "\n",
    "# convert to numpy array\n",
    "X = df_try.to_numpy()\n",
    "pids = np.unique(X[:,0])\n",
    "\n",
    "# exclude pids\n",
    "X = X[:,1:]\n",
    "age = X[::12,0]\n",
    "age = age.reshape((len(age),1))\n",
    "\n",
    "# exclude ages\n",
    "X = X[:,1:]\n",
    "X = X.reshape((len(pids),12*X.shape[-1]))\n",
    "X = np.hstack((age,X))\n",
    "\n",
    "#poly = PolynomialFeatures(10)\n",
    "\n",
    "# PREPARING TRAINING LABELS\n",
    "\n",
    "y = df_subtask1.copy().to_numpy()\n",
    "y = y[:,1:]\n",
    "\n",
    "#accuracy = np.empty((y.shape[1],))\n",
    "\n",
    "clf = SGDClassifier()\n",
    "for i in range(y.shape[1]):\n",
    "    print(\"label: \" + TEST1[i])\n",
    "    X_new = SelectKBest(k=409).fit_transform(X, y[:,i])\n",
    "    #X_new = poly.fit_transform(X_new)\n",
    "    scores = cross_val_score(clf, X_new, y[:,i], cv=10)\n",
    "    print(scores)\n",
    "\n",
    "#for i in range(y.shape[1]):\n",
    "    #clf = LogisticRegressionCV(cv=10, max_iter=100, solver='sag').fit(X,y[:,i])\n",
    "    #accuracy[i] = clf.score(X,y)"
   ]
  },
  {
   "cell_type": "code",
   "execution_count": null,
   "id": "051f7bb6",
   "metadata": {},
   "outputs": [],
   "source": [
    "X.shape"
   ]
  },
  {
   "cell_type": "code",
   "execution_count": null,
   "id": "d5e89d06",
   "metadata": {},
   "outputs": [],
   "source": [
    "y.shape"
   ]
  }
 ],
 "metadata": {
  "kernelspec": {
   "display_name": "Python 3",
   "language": "python",
   "name": "python3"
  },
  "language_info": {
   "codemirror_mode": {
    "name": "ipython",
    "version": 3
   },
   "file_extension": ".py",
   "mimetype": "text/x-python",
   "name": "python",
   "nbconvert_exporter": "python",
   "pygments_lexer": "ipython3",
   "version": "3.8.8"
  }
 },
 "nbformat": 4,
 "nbformat_minor": 5
}
