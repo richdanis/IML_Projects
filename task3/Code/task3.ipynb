{
  "nbformat": 4,
  "nbformat_minor": 0,
  "metadata": {
    "colab": {
      "name": "task3.ipynb",
      "provenance": [],
      "collapsed_sections": []
    },
    "kernelspec": {
      "name": "python3",
      "display_name": "Python 3"
    },
    "language_info": {
      "name": "python"
    },
    "widgets": {
      "application/vnd.jupyter.widget-state+json": {
        "30c8fed64a454a0fbbae96633cfe3f13": {
          "model_module": "@jupyter-widgets/controls",
          "model_name": "HBoxModel",
          "model_module_version": "1.5.0",
          "state": {
            "_dom_classes": [],
            "_model_module": "@jupyter-widgets/controls",
            "_model_module_version": "1.5.0",
            "_model_name": "HBoxModel",
            "_view_count": null,
            "_view_module": "@jupyter-widgets/controls",
            "_view_module_version": "1.5.0",
            "_view_name": "HBoxView",
            "box_style": "",
            "children": [
              "IPY_MODEL_3d6bace2946f408680f286f2a9c19ea8",
              "IPY_MODEL_f7969eabf376416b86c8f4a3d0bea141",
              "IPY_MODEL_20e7fba87da844238f535dc5eb8c41ac"
            ],
            "layout": "IPY_MODEL_e634ad18f147464d97bde05369ca4a66"
          }
        },
        "3d6bace2946f408680f286f2a9c19ea8": {
          "model_module": "@jupyter-widgets/controls",
          "model_name": "HTMLModel",
          "model_module_version": "1.5.0",
          "state": {
            "_dom_classes": [],
            "_model_module": "@jupyter-widgets/controls",
            "_model_module_version": "1.5.0",
            "_model_name": "HTMLModel",
            "_view_count": null,
            "_view_module": "@jupyter-widgets/controls",
            "_view_module_version": "1.5.0",
            "_view_name": "HTMLView",
            "description": "",
            "description_tooltip": null,
            "layout": "IPY_MODEL_dfb6ee037134442d88a4bb428a2dd312",
            "placeholder": "​",
            "style": "IPY_MODEL_8ddd8d42fbec4de2a6e749a2ee25f55b",
            "value": "100%"
          }
        },
        "f7969eabf376416b86c8f4a3d0bea141": {
          "model_module": "@jupyter-widgets/controls",
          "model_name": "FloatProgressModel",
          "model_module_version": "1.5.0",
          "state": {
            "_dom_classes": [],
            "_model_module": "@jupyter-widgets/controls",
            "_model_module_version": "1.5.0",
            "_model_name": "FloatProgressModel",
            "_view_count": null,
            "_view_module": "@jupyter-widgets/controls",
            "_view_module_version": "1.5.0",
            "_view_name": "ProgressView",
            "bar_style": "success",
            "description": "",
            "description_tooltip": null,
            "layout": "IPY_MODEL_7970aa4cf0ba4f439a08d89ad725b0a1",
            "max": 553433881,
            "min": 0,
            "orientation": "horizontal",
            "style": "IPY_MODEL_05f8718720a74d6ba9f19cbb1b1c0401",
            "value": 553433881
          }
        },
        "20e7fba87da844238f535dc5eb8c41ac": {
          "model_module": "@jupyter-widgets/controls",
          "model_name": "HTMLModel",
          "model_module_version": "1.5.0",
          "state": {
            "_dom_classes": [],
            "_model_module": "@jupyter-widgets/controls",
            "_model_module_version": "1.5.0",
            "_model_name": "HTMLModel",
            "_view_count": null,
            "_view_module": "@jupyter-widgets/controls",
            "_view_module_version": "1.5.0",
            "_view_name": "HTMLView",
            "description": "",
            "description_tooltip": null,
            "layout": "IPY_MODEL_ca3039e01cbe4623995e71b2d9e123ac",
            "placeholder": "​",
            "style": "IPY_MODEL_a96c13fa423b423b9b65762bd34e588c",
            "value": " 528M/528M [00:02&lt;00:00, 232MB/s]"
          }
        },
        "e634ad18f147464d97bde05369ca4a66": {
          "model_module": "@jupyter-widgets/base",
          "model_name": "LayoutModel",
          "model_module_version": "1.2.0",
          "state": {
            "_model_module": "@jupyter-widgets/base",
            "_model_module_version": "1.2.0",
            "_model_name": "LayoutModel",
            "_view_count": null,
            "_view_module": "@jupyter-widgets/base",
            "_view_module_version": "1.2.0",
            "_view_name": "LayoutView",
            "align_content": null,
            "align_items": null,
            "align_self": null,
            "border": null,
            "bottom": null,
            "display": null,
            "flex": null,
            "flex_flow": null,
            "grid_area": null,
            "grid_auto_columns": null,
            "grid_auto_flow": null,
            "grid_auto_rows": null,
            "grid_column": null,
            "grid_gap": null,
            "grid_row": null,
            "grid_template_areas": null,
            "grid_template_columns": null,
            "grid_template_rows": null,
            "height": null,
            "justify_content": null,
            "justify_items": null,
            "left": null,
            "margin": null,
            "max_height": null,
            "max_width": null,
            "min_height": null,
            "min_width": null,
            "object_fit": null,
            "object_position": null,
            "order": null,
            "overflow": null,
            "overflow_x": null,
            "overflow_y": null,
            "padding": null,
            "right": null,
            "top": null,
            "visibility": null,
            "width": null
          }
        },
        "dfb6ee037134442d88a4bb428a2dd312": {
          "model_module": "@jupyter-widgets/base",
          "model_name": "LayoutModel",
          "model_module_version": "1.2.0",
          "state": {
            "_model_module": "@jupyter-widgets/base",
            "_model_module_version": "1.2.0",
            "_model_name": "LayoutModel",
            "_view_count": null,
            "_view_module": "@jupyter-widgets/base",
            "_view_module_version": "1.2.0",
            "_view_name": "LayoutView",
            "align_content": null,
            "align_items": null,
            "align_self": null,
            "border": null,
            "bottom": null,
            "display": null,
            "flex": null,
            "flex_flow": null,
            "grid_area": null,
            "grid_auto_columns": null,
            "grid_auto_flow": null,
            "grid_auto_rows": null,
            "grid_column": null,
            "grid_gap": null,
            "grid_row": null,
            "grid_template_areas": null,
            "grid_template_columns": null,
            "grid_template_rows": null,
            "height": null,
            "justify_content": null,
            "justify_items": null,
            "left": null,
            "margin": null,
            "max_height": null,
            "max_width": null,
            "min_height": null,
            "min_width": null,
            "object_fit": null,
            "object_position": null,
            "order": null,
            "overflow": null,
            "overflow_x": null,
            "overflow_y": null,
            "padding": null,
            "right": null,
            "top": null,
            "visibility": null,
            "width": null
          }
        },
        "8ddd8d42fbec4de2a6e749a2ee25f55b": {
          "model_module": "@jupyter-widgets/controls",
          "model_name": "DescriptionStyleModel",
          "model_module_version": "1.5.0",
          "state": {
            "_model_module": "@jupyter-widgets/controls",
            "_model_module_version": "1.5.0",
            "_model_name": "DescriptionStyleModel",
            "_view_count": null,
            "_view_module": "@jupyter-widgets/base",
            "_view_module_version": "1.2.0",
            "_view_name": "StyleView",
            "description_width": ""
          }
        },
        "7970aa4cf0ba4f439a08d89ad725b0a1": {
          "model_module": "@jupyter-widgets/base",
          "model_name": "LayoutModel",
          "model_module_version": "1.2.0",
          "state": {
            "_model_module": "@jupyter-widgets/base",
            "_model_module_version": "1.2.0",
            "_model_name": "LayoutModel",
            "_view_count": null,
            "_view_module": "@jupyter-widgets/base",
            "_view_module_version": "1.2.0",
            "_view_name": "LayoutView",
            "align_content": null,
            "align_items": null,
            "align_self": null,
            "border": null,
            "bottom": null,
            "display": null,
            "flex": null,
            "flex_flow": null,
            "grid_area": null,
            "grid_auto_columns": null,
            "grid_auto_flow": null,
            "grid_auto_rows": null,
            "grid_column": null,
            "grid_gap": null,
            "grid_row": null,
            "grid_template_areas": null,
            "grid_template_columns": null,
            "grid_template_rows": null,
            "height": null,
            "justify_content": null,
            "justify_items": null,
            "left": null,
            "margin": null,
            "max_height": null,
            "max_width": null,
            "min_height": null,
            "min_width": null,
            "object_fit": null,
            "object_position": null,
            "order": null,
            "overflow": null,
            "overflow_x": null,
            "overflow_y": null,
            "padding": null,
            "right": null,
            "top": null,
            "visibility": null,
            "width": null
          }
        },
        "05f8718720a74d6ba9f19cbb1b1c0401": {
          "model_module": "@jupyter-widgets/controls",
          "model_name": "ProgressStyleModel",
          "model_module_version": "1.5.0",
          "state": {
            "_model_module": "@jupyter-widgets/controls",
            "_model_module_version": "1.5.0",
            "_model_name": "ProgressStyleModel",
            "_view_count": null,
            "_view_module": "@jupyter-widgets/base",
            "_view_module_version": "1.2.0",
            "_view_name": "StyleView",
            "bar_color": null,
            "description_width": ""
          }
        },
        "ca3039e01cbe4623995e71b2d9e123ac": {
          "model_module": "@jupyter-widgets/base",
          "model_name": "LayoutModel",
          "model_module_version": "1.2.0",
          "state": {
            "_model_module": "@jupyter-widgets/base",
            "_model_module_version": "1.2.0",
            "_model_name": "LayoutModel",
            "_view_count": null,
            "_view_module": "@jupyter-widgets/base",
            "_view_module_version": "1.2.0",
            "_view_name": "LayoutView",
            "align_content": null,
            "align_items": null,
            "align_self": null,
            "border": null,
            "bottom": null,
            "display": null,
            "flex": null,
            "flex_flow": null,
            "grid_area": null,
            "grid_auto_columns": null,
            "grid_auto_flow": null,
            "grid_auto_rows": null,
            "grid_column": null,
            "grid_gap": null,
            "grid_row": null,
            "grid_template_areas": null,
            "grid_template_columns": null,
            "grid_template_rows": null,
            "height": null,
            "justify_content": null,
            "justify_items": null,
            "left": null,
            "margin": null,
            "max_height": null,
            "max_width": null,
            "min_height": null,
            "min_width": null,
            "object_fit": null,
            "object_position": null,
            "order": null,
            "overflow": null,
            "overflow_x": null,
            "overflow_y": null,
            "padding": null,
            "right": null,
            "top": null,
            "visibility": null,
            "width": null
          }
        },
        "a96c13fa423b423b9b65762bd34e588c": {
          "model_module": "@jupyter-widgets/controls",
          "model_name": "DescriptionStyleModel",
          "model_module_version": "1.5.0",
          "state": {
            "_model_module": "@jupyter-widgets/controls",
            "_model_module_version": "1.5.0",
            "_model_name": "DescriptionStyleModel",
            "_view_count": null,
            "_view_module": "@jupyter-widgets/base",
            "_view_module_version": "1.2.0",
            "_view_name": "StyleView",
            "description_width": ""
          }
        }
      }
    }
  },
  "cells": [
    {
      "cell_type": "code",
      "source": [
        "#Imports\n",
        "import numpy as np\n",
        "from numpy import random as ran\n",
        "\n",
        "import torch\n",
        "import torch.nn as nn\n",
        "import torch.nn.functional as F\n",
        "import torchvision.transforms as T\n",
        "from torchvision import transforms\n",
        "import torchvision.models as models\n",
        "\n",
        "import time\n",
        "\n",
        "from PIL import Image"
      ],
      "metadata": {
        "id": "5PGB3crk2Y2R"
      },
      "execution_count": null,
      "outputs": []
    },
    {
      "cell_type": "code",
      "source": [
        "def swap(train):\n",
        "    y = ran.choice(a=[0, 1], size=(train.shape[0],1))\n",
        "\n",
        "    for i in range(train.shape[0]):\n",
        "        if y[i] == 0:\n",
        "            tmp = train[i,1]\n",
        "            train[i,1] = train[i,2]\n",
        "            train[i,2] = tmp\n",
        "    \n",
        "    train = np.hstack(train,y)\n",
        "\n",
        "    return train"
      ],
      "metadata": {
        "id": "iNxcj7Dd3KTo"
      },
      "execution_count": null,
      "outputs": []
    },
    {
      "cell_type": "code",
      "source": [
        "def get_ima(train,i):\n",
        "    A,B,C = train[i,:]\n",
        "    \n",
        "    filename = '../Data/food/'\n",
        "    A_im = Image.open(filename + A + '.jpg').convert('RGB')\n",
        "    B_im = Image.open(filename + B + '.jpg').convert('RGB')\n",
        "    C_im = Image.open(filename + C + '.jpg').convert('RGB')\n",
        "    \n",
        "    resize = T.Resize(size=(250,350))\n",
        "    A_im = resize(A_im)\n",
        "    B_im = resize(B_im)\n",
        "    C_im = resize(C_im)\n",
        "        \n",
        "    to_tensor = T.ToTensor()\n",
        "    A_ten = to_tensor(A_im)\n",
        "    B_ten = to_tensor(B_im)\n",
        "    C_ten = to_tensor(C_im)\n",
        "    \n",
        "    return A_ten, B_ten, C_ten\n"
      ],
      "metadata": {
        "id": "QmCcqmLt3Lmy"
      },
      "execution_count": null,
      "outputs": []
    },
    {
      "cell_type": "code",
      "source": [
        "def image_to_tensor(img):\n",
        "\n",
        "    filename = '../Data/food/' + str(img) + '.jpg'\n",
        "    image = Image.open(filename)\n",
        "    to_tensor = transforms.ToTensor()\n",
        "    tensor = to_tensor(image)\n",
        "    resize = transforms.Resize((250,350))\n",
        "    tensor = resize(tensor)\n",
        "    normalize = transforms.Normalize(mean=[0.485, 0.456, 0.406],\n",
        "                                     std=[0.229, 0.224, 0.225])\n",
        "    tensor = normalize(tensor)"
      ],
      "metadata": {
        "id": "h5thBnb_3Tzn"
      },
      "execution_count": null,
      "outputs": []
    },
    {
      "cell_type": "code",
      "execution_count": null,
      "metadata": {
        "id": "TRBTv8sB18t8"
      },
      "outputs": [],
      "source": [
        "#data\n",
        "fname = '../Data/'\n",
        "food = fname + 'food/'\n",
        "train = np.loadtxt(fname + \"train_triplets.txt\", dtype=str)\n",
        "#test = np.loadtxt(fname + \"test_triplets.txt\", dtype=str)\n",
        "\n",
        "y, train = swap(train)\n",
        "i = 1000\n",
        "\n",
        "A,B,C = get_ima(train,i)\n",
        "\n",
        "print(A.shape)\n",
        "print(B.shape)\n",
        "print(C.shape)\n",
        "print(y.shape)\n",
        "print('Hello World!')"
      ]
    },
    {
      "cell_type": "code",
      "source": [
        "def get_batch(idx, train):\n",
        "\n",
        "    batch = torch.empty((64,3,3,250,350))\n",
        "\n",
        "    for i in range(64):\n",
        "\n",
        "        batch[i][0] = image_to_tensor(train[idx*64+i][0])\n",
        "        batch[i][1] = image_to_tensor(train[idx*64+i][1])\n",
        "        batch[i][2] = image_to_tensor(train[idx*64+i][2])\n",
        "\n",
        "    return batch"
      ],
      "metadata": {
        "id": "nVkOufHn3WEF"
      },
      "execution_count": null,
      "outputs": []
    },
    {
      "cell_type": "code",
      "source": [
        "vgg16 = models.vgg16(pretrained=True)\n",
        "\n",
        "class Net(nn.Module):\n",
        "\n",
        "    def __init__(self):\n",
        "        super(Net, self).__init__()\n",
        "        self.features = vgg16.features\n",
        "        self.avgpool = vgg16.avgpool\n",
        "        self.classifier = vgg16.classifier\n",
        "        self.classifier[6] = nn.Linear(4096,1,bias=True)\n",
        "        self.classifier[0] = nn.Linear(75264,4096,bias=True)\n",
        "\n",
        "    # x represents our data\n",
        "    def forward(self, x):\n",
        "\n",
        "        a = self.features(x[0])\n",
        "        a = self.avgpool(a)\n",
        "        b = self.features(x[1])\n",
        "        b = self.avgpool(b)\n",
        "        c = self.features(x[2])\n",
        "        c = self.avgpool(c)\n",
        "\n",
        "        a = torch.cat((a,b,c))\n",
        "        a = torch.flatten(a)\n",
        "\n",
        "        return self.classifier(a)\n",
        "\n",
        "model = Net().cuda()"
      ],
      "metadata": {
        "id": "AFIlCRLV2BOe",
        "colab": {
          "base_uri": "https://localhost:8080/",
          "height": 67,
          "referenced_widgets": [
            "30c8fed64a454a0fbbae96633cfe3f13",
            "3d6bace2946f408680f286f2a9c19ea8",
            "f7969eabf376416b86c8f4a3d0bea141",
            "20e7fba87da844238f535dc5eb8c41ac",
            "e634ad18f147464d97bde05369ca4a66",
            "dfb6ee037134442d88a4bb428a2dd312",
            "8ddd8d42fbec4de2a6e749a2ee25f55b",
            "7970aa4cf0ba4f439a08d89ad725b0a1",
            "05f8718720a74d6ba9f19cbb1b1c0401",
            "ca3039e01cbe4623995e71b2d9e123ac",
            "a96c13fa423b423b9b65762bd34e588c"
          ]
        },
        "outputId": "3a51a58e-fce6-423c-df0a-175108d118e2"
      },
      "execution_count": null,
      "outputs": [
        {
          "output_type": "stream",
          "name": "stderr",
          "text": [
            "Downloading: \"https://download.pytorch.org/models/vgg16-397923af.pth\" to /root/.cache/torch/hub/checkpoints/vgg16-397923af.pth\n"
          ]
        },
        {
          "output_type": "display_data",
          "data": {
            "text/plain": [
              "  0%|          | 0.00/528M [00:00<?, ?B/s]"
            ],
            "application/vnd.jupyter.widget-view+json": {
              "version_major": 2,
              "version_minor": 0,
              "model_id": "30c8fed64a454a0fbbae96633cfe3f13"
            }
          },
          "metadata": {}
        }
      ]
    },
    {
      "cell_type": "code",
      "source": [
        "loss_fn = torch.nn.BCELoss()"
      ],
      "metadata": {
        "id": "fy5lwaNNAF45"
      },
      "execution_count": null,
      "outputs": []
    },
    {
      "cell_type": "code",
      "source": [
        "# define utility functions to compute classification accuracy and\n",
        "# perform evaluation / testing\n",
        "\n",
        "def accuracy(logits: torch.Tensor, label: torch.Tensor) -> torch.Tensor:\n",
        "  # computes the classification accuracy\n",
        "  correct_label = torch.argmax(logits, axis=-1) == torch.argmax(label, axis=-1)\n",
        "  assert correct_label.shape == (logits.shape[0],)\n",
        "  acc = torch.mean(correct_label.float())\n",
        "  assert 0. <= acc <= 1.\n",
        "  return acc\n",
        "\n",
        "def evaluate(model: torch.nn.Module) -> torch.Tensor:\n",
        "  # goes through the test dataset and computes the test accuracy\n",
        "  model.eval()  # bring the model into eval mode\n",
        "  with torch.no_grad():\n",
        "    acc_cum = 0.0\n",
        "    num_eval_samples = 0\n",
        "    for x_batch_test, y_label_test in test_loader:\n",
        "      x_batch_test, y_label_test = x_batch_test.cuda(), y_label_test.cuda()\n",
        "      batch_size = x_batch_test.shape[0]\n",
        "      num_eval_samples += batch_size\n",
        "      acc_cum += accuracy(model(x_batch_test), y_label_test) * batch_size\n",
        "    avg_acc = acc_cum / num_eval_samples\n",
        "    assert 0 <= avg_acc <= 1\n",
        "    return avg_acc"
      ],
      "metadata": {
        "id": "V3ipsr8a_mvg"
      },
      "execution_count": null,
      "outputs": []
    },
    {
      "cell_type": "code",
      "source": [
        "# Setup the optimizer (adaptive learning rate method)\n",
        "optim = torch.optim.Adam(model.parameters(), lr=1e-3)\n",
        "\n",
        "fname = '../Data/'\n",
        "food = fname + 'food/'\n",
        "train = np.loadtxt(fname + \"train_triplets.txt\", dtype=str)\n",
        "train = swap(train)\n",
        "\n",
        "for epoch in range(50):\n",
        "    # reset statistics trackers\n",
        "    train_loss_cum = 0.0\n",
        "    acc_cum = 0.0\n",
        "    num_samples_epoch = 0\n",
        "    t = time.time()\n",
        "    np.random.shuffle(train)\n",
        "    X = train[:,:3]\n",
        "    y = train[:,3:]\n",
        "\n",
        "    # Go once through the training dataset (-> epoch)\n",
        "    for i in range(train.shape[0]/64 + 1):\n",
        "\n",
        "        x_batch = get_batch(i,X[i*64:(i+1)*64])\n",
        "        y_batch = y[i*64:(i+1)*64]\n",
        "\n",
        "        # zero grads and put model into train mode\n",
        "        optim.zero_grad()\n",
        "        model.train()\n",
        "\n",
        "        # move data to GPU\n",
        "        x_batch, y_batch = x_batch.cuda(), y_batch.cuda()\n",
        "\n",
        "        # forward pass\n",
        "        logits = model(x_batch)\n",
        "        loss = loss_fn(logits, y_batch)\n",
        "\n",
        "        # backward pass and gradient step\n",
        "        loss.backward()\n",
        "        optim.step()\n",
        "\n",
        "        # keep track of train stats\n",
        "        num_samples_batch = x_batch.shape[0]\n",
        "        num_samples_epoch += num_samples_batch\n",
        "        train_loss_cum += loss * num_samples_batch\n",
        "        acc_cum += accuracy(logits, y_batch) * num_samples_batch\n",
        "\n",
        "    # average the accumulated statistics\n",
        "    avg_train_loss = train_loss_cum / num_samples_epoch\n",
        "    avg_acc = acc_cum / num_samples_epoch\n",
        "    test_acc = evaluate(model)\n",
        "    epoch_duration = time.time() - t\n",
        "\n",
        "    # print some infos\n",
        "    print(f'Epoch {epoch} | Train loss: {train_loss_cum.item():.4f} | '\n",
        "          f' Train accuracy: {avg_acc.item():.4f} | Test accuracy: {test_acc.item():.4f} |'\n",
        "          f' Duration {epoch_duration:.2f} sec')\n",
        "\n",
        "    # save checkpoint of model\n",
        "    if epoch % 5 == 0 and epoch > 0:\n",
        "        save_path = f'model_epoch_{epoch}.pt'\n",
        "        torch.save({'epoch': epoch,\n",
        "                    'model_state_dict': model.state_dict(),\n",
        "                    'optimizer_state_dict': optim.state_dict()},\n",
        "                   save_path)\n",
        "        print(f'Saved model checkpoint to {save_path}')"
      ],
      "metadata": {
        "id": "OEu7ng1V2T9D"
      },
      "execution_count": null,
      "outputs": []
    },
    {
      "cell_type": "code",
      "source": [
        ""
      ],
      "metadata": {
        "id": "kKhAyiwU2UKk"
      },
      "execution_count": null,
      "outputs": []
    },
    {
      "cell_type": "code",
      "source": [
        ""
      ],
      "metadata": {
        "id": "kotu3RQO2UOJ"
      },
      "execution_count": null,
      "outputs": []
    },
    {
      "cell_type": "code",
      "source": [
        ""
      ],
      "metadata": {
        "id": "Fdpl2l_o2UQ6"
      },
      "execution_count": null,
      "outputs": []
    },
    {
      "cell_type": "code",
      "source": [
        ""
      ],
      "metadata": {
        "id": "E1YH1Vse2UTZ"
      },
      "execution_count": null,
      "outputs": []
    }
  ]
}